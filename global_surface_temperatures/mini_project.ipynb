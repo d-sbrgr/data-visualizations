{
 "cells": [
  {
   "cell_type": "code",
   "execution_count": null,
   "metadata": {},
   "outputs": [],
   "source": [
    "import pandas as pd \n",
    "import numpy as np \n",
    "import matplotlib.pyplot as plt \n",
    "import calendar\n",
    "import matplotlib.font_manager as fm "
   ]
  },
  {
   "cell_type": "code",
   "execution_count": null,
   "metadata": {},
   "outputs": [],
   "source": [
    "# Load the \"Jost\" font needed for this plot\n",
    "font_dir = ['./Jost_Font/']  # Font is located in Jost_Font folder\n",
    "for font in fm.findSystemFonts(font_dir):\n",
    "    print(font)\n",
    "    fm.fontManager.addfont(font)"
   ]
  },
  {
   "cell_type": "code",
   "execution_count": null,
   "metadata": {},
   "outputs": [],
   "source": [
    "# Check if font was successfully loaded\n",
    "fm.fontManager.findfont('Jost')"
   ]
  },
  {
   "cell_type": "code",
   "execution_count": null,
   "metadata": {},
   "outputs": [],
   "source": [
    "# Read in the datasets\n",
    "data_global = pd.read_csv('global_temps.csv')\n",
    "data_nh = pd.read_csv('nh_temps.csv')\n",
    "data_sh = pd.read_csv('sh_temps.csv')"
   ]
  },
  {
   "cell_type": "code",
   "execution_count": null,
   "metadata": {},
   "outputs": [],
   "source": [
    "data_global.head()  # Check if global data was successfully loaded"
   ]
  },
  {
   "cell_type": "code",
   "execution_count": null,
   "metadata": {},
   "outputs": [],
   "source": [
    "data_nh.head()  # Check if northern hemisphere data was successfully loaded"
   ]
  },
  {
   "cell_type": "code",
   "execution_count": null,
   "metadata": {},
   "outputs": [],
   "source": [
    "data_sh.head()  # Check if southern hemisphere data was successfully loaded"
   ]
  },
  {
   "cell_type": "code",
   "execution_count": null,
   "metadata": {},
   "outputs": [],
   "source": [
    "# Melt the data -> create a column \"Month\"\n",
    "data = {}\n",
    "data.update({\n",
    "    'global': data_global.melt(id_vars=\"Year\", var_name=\"Month\", value_name=\"value\"),\n",
    "    'nh': data_nh.melt(id_vars=\"Year\", var_name=\"Month\", value_name=\"value\"),\n",
    "    'sh': data_sh.melt(id_vars=\"Year\", var_name=\"Month\", value_name=\"value\")\n",
    "    })"
   ]
  },
  {
   "cell_type": "code",
   "execution_count": null,
   "metadata": {},
   "outputs": [],
   "source": [
    "# Clean up and refine melted data\n",
    "\n",
    "for key, df in data.items():\n",
    "    # Filter rows where 'Month' column contains correct month abbreviations\n",
    "    df = df[df['Month'].isin(calendar.month_abbr[1:])]  \n",
    "\n",
    "    # Convert these abbreviations to lowercase\n",
    "    df.loc[:, 'Month'] = df['Month'].str.lower()  \n",
    "\n",
    "    # Remove rows with missing value\n",
    "    df = df.dropna(subset=['value'])  \n",
    "\n",
    "    # Create a new 'date' column by combining 'Year' and 'Month' columns\n",
    "    df['date'] = df['Year'].astype(str) + '-' + df['Month'] + '-1'  \n",
    "\n",
    "    # Convert 'date' column to datetime format\n",
    "    df['date'] = pd.to_datetime(df['date'], format='%Y-%b-%d') \n",
    "\n",
    "    # Create new 'date_float' column with float representation of datetime objects \n",
    "    df['date_float'] = df['date'].apply(lambda x: x.timestamp())  \n",
    "\n",
    "    # Store back in data dict\n",
    "    data[key] = df"
   ]
  },
  {
   "cell_type": "code",
   "execution_count": null,
   "metadata": {},
   "outputs": [],
   "source": [
    "# Calculations for polynomial regression fitting\n",
    "\n",
    "data_mean = {}\n",
    "for key, df in data.items():\n",
    "    # Fit a polynomial curve to the data\n",
    "    degree = 8  # Eight degree seems to fit the original the best\n",
    "    coefficients = np.polyfit(df['date_float'], df['value'], degree)\n",
    "    polynomial = np.poly1d(coefficients)\n",
    "\n",
    "    # Create x values for the smooth curve\n",
    "    x_smooth = np.linspace(df['date_float'].min(), df['date_float'].max(), 1000)\n",
    "\n",
    "    # Evaluate the polynomial at the x_smooth values to get the corresponding y_smooth values\n",
    "    y_smooth = polynomial(x_smooth)\n",
    "\n",
    "    # Store the curve data in new 'data_mean' dict\n",
    "    data_mean[key] = ([pd.to_datetime(date, unit='s') for date in x_smooth], y_smooth)"
   ]
  },
  {
   "cell_type": "code",
   "execution_count": null,
   "metadata": {},
   "outputs": [],
   "source": [
    "# Colors eyedropped from original plot\n",
    "styleguide = {\n",
    "    'global': {'color': '#fc6f06'},\n",
    "    'nh': {'color': '#c11700'},\n",
    "    'sh': {'color': '#008ea9'},\n",
    "}\n",
    "\n",
    "# The error bands from the original plot could not be recreated with appropriate effort, so a visibly best fitting value is chosen here\n",
    "mock_error = 0.03\n",
    "\n",
    "# The R.ggplot API is not very well documented, therefore after 1.5 hours of trying to recreate the error-bands I settled with using a constant value"
   ]
  },
  {
   "cell_type": "code",
   "execution_count": null,
   "metadata": {},
   "outputs": [],
   "source": [
    "# Create figure and axis\n",
    "f, ax = plt.subplots(figsize=(36, 27), dpi=300)\n",
    "\n",
    "# Plot the scatterplot, as well as the regression curves\n",
    "for key, df in data.items():\n",
    "    ax.scatter(x='date', y='value', data=df, s=50, edgecolors='white', **styleguide[key], zorder=90)\n",
    "    ax.plot(data_mean[key][0], data_mean[key][1], linewidth=5, **styleguide[key], zorder=99)\n",
    "\n",
    "# Plot the error-bands around the regression curve\n",
    "for key, df in data.items():\n",
    "    ax.fill_between(data_mean[key][0], data_mean[key][1]-mock_error, data_mean[key][1]+mock_error, alpha=0.4, linewidth=0, **styleguide[key], zorder=98)\n",
    "\n",
    "# Set the margins of the x-Axis to zero -> Plot starts where data starts\n",
    "ax.margins(x=0)\n",
    "\n",
    "# Set x-Ticks and x-Ticks-Labels to every first year of the decade\n",
    "xticks = [pd.Timestamp(year=year, month=1, day=1) for year in range(1880, 2030, 10)]\n",
    "xticks_labels = [f'{tick.year}' for tick in xticks]\n",
    "ax.set_xticks(xticks, minor=False)\n",
    "ax.set_xticklabels(xticks_labels)\n",
    "\n",
    "# Set y-Ticks to the four values from original and add \"°C\" to y-Ticks-Labels\n",
    "yticks = [-1, 0, 1, 2]\n",
    "yticks_labels = [f'{tick} °C' for tick in yticks]\n",
    "ax.set_yticks(yticks, minor=False)\n",
    "ax.set_yticklabels(yticks_labels)\n",
    "\n",
    "# Format the ticks and the tick-labels\n",
    "ax.tick_params(which='major', labelsize=21, labelfontfamily='Jost', labelcolor='dimgrey') # Style all major tick labels\n",
    "ax.tick_params(axis='y', which='major', pad=15, color='darkgrey', length=7, width=1.5) # Style y-Axis major ticks\n",
    "ax.tick_params(axis='x', which='major', color='black', length=7, width=1.5) # Style x-Axis major ticks\n",
    "\n",
    "# Set y-Axis tick labels to use bold font\n",
    "for tick in ax.get_yticklabels():\n",
    "    tick.set_fontweight('bold')\n",
    "\n",
    "# Set the grid to use custom dash style\n",
    "ax.grid(axis=\"x\", color=\"darkgrey\", linestyle=(0, (5, 5)), linewidth=1.5)\n",
    "ax.grid(axis=\"y\", color=\"darkgrey\", linestyle=(0, (5, 5)), linewidth=1.5)\n",
    "\n",
    "# Make bottom spine thicker and disable all other spines\n",
    "ax.spines.bottom.set(color='black', linewidth=1.5)\n",
    "ax.spines.top.set_visible(False)\n",
    "ax.spines.left.set_visible(False)\n",
    "ax.spines.right.set_visible(False)\n",
    "\n",
    "# Set title\n",
    "f.suptitle('Global surface temperatures', x=0.33, y=0.97, fontproperties={'family': 'Jost', 'size': 80, 'weight': 'bold'})\n",
    "\n",
    "# Set subtitle (there might be a better way, but I could not find a way to have differently colored text in one object...)\n",
    "f.text(x=0.126, y=0.91, s=\"Monthly average surface temperatures at a           scale, as well as in the               and               hemispheres.\", \n",
    "       color='dimgrey', fontproperties={'family': 'Jost', 'size': 27, 'weight': 'regular'})\n",
    "f.text(x=0.3145, y=0.91, s=\"global\", color='#fc6f06', fontproperties={'family': 'Jost', 'size': 27, 'weight': 'semibold'})\n",
    "f.text(x=0.447, y=0.91, s=\"northern\", color='#c11700', fontproperties={'family': 'Jost', 'size': 27, 'weight': 'semibold'})\n",
    "f.text(x=0.5105, y=0.91, s=\"southern\", color='#008ea9', fontproperties={'family': 'Jost', 'size': 27, 'weight': 'semibold'})\n",
    "\n",
    "# Set caption (same as above, the caption uses different font weight and I could not find a way of doing this in one object)\n",
    "f.text(x=0.6565, y=0.072, s=\"Source:\", fontproperties={'family': 'Jost', 'size': 14, 'weight': 'regular'})\n",
    "f.text(x=0.6758, y=0.072, s=\"NASA GISS Surface Temperature Analysis (GISTEMP v4)\", fontproperties={'family': 'Jost', 'size': 14, 'weight': 'bold'})\n",
    "f.text(x=0.8225, y=0.072, s=\"| Graphic:\", fontproperties={'family': 'Jost', 'size': 14, 'weight': 'regular'})\n",
    "f.text(x=0.848, y=0.072, s=\"Nikolaos Pechlivanis\", fontproperties={'family': 'Jost', 'size': 14, 'weight': 'bold'})\n",
    "\n",
    "# Save the figure -> the output \"plot.png\" looks a lot closer to the original than the one displayed in this notebook\n",
    "plt.savefig('plot.png', bbox_inches='tight', pad_inches=0.7)\n"
   ]
  }
 ],
 "metadata": {
  "kernelspec": {
   "display_name": "venv",
   "language": "python",
   "name": "python3"
  },
  "language_info": {
   "codemirror_mode": {
    "name": "ipython",
    "version": 3
   },
   "file_extension": ".py",
   "mimetype": "text/x-python",
   "name": "python",
   "nbconvert_exporter": "python",
   "pygments_lexer": "ipython3",
   "version": "3.10.11"
  }
 },
 "nbformat": 4,
 "nbformat_minor": 2
}
